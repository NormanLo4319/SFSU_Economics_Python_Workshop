{
 "cells": [
  {
   "cell_type": "markdown",
   "id": "atmospheric-blink",
   "metadata": {},
   "source": [
    "# Python Workshop\n",
    "\n",
    "## Objectives\n",
    "\n",
    "1. Install and Import Packages\n",
    "2. Import Data Using Pandas\n",
    "3. Clean and Manipulate Data in Pandas DataFrame\n",
    "4. Create Data Visualization Using Matplotlib\n",
    "5. Build Simple Linear Regression Model with StatsModels"
   ]
  },
  {
   "cell_type": "markdown",
   "id": "blond-family",
   "metadata": {},
   "source": [
    "## I. Install and Import Packages\n",
    "\n",
    "In Jupyter Notebook, we can download and install any pacakges available for Python by using the **pip install** method and import the package using the **import** method.\n",
    "\n",
    "Here is an example of the code.\n",
    "\n",
    "``` Python\n",
    "!pip install pandas\n",
    "import pandas as pd\n",
    "```\n",
    "\n",
    "Note: Package only needs to be installed once to Anaconda environment for future use.  Once it is installed, you can import and use the package in different project and notebook."
   ]
  },
  {
   "cell_type": "code",
   "execution_count": null,
   "id": "thirty-relevance",
   "metadata": {},
   "outputs": [],
   "source": [
    "# Try to install and import your first Python package \"Pandas\"\n"
   ]
  },
  {
   "cell_type": "markdown",
   "id": "entertaining-happening",
   "metadata": {},
   "source": [
    "## II. Import Data Using Pandas\n",
    "\n",
    "To start a data project, we need to import the data into Python, so that we can work with it. Pandas is the main Python package to map different data sources (excel, csv, dta, rData, etc) into a structured data frame. \n",
    "\n",
    "Here is an example of the code.\n",
    "\n",
    "``` Python\n",
    "# Create a path to the excel file\n",
    "file_path = \"./data/crime_data.xlsx\"\n",
    "\n",
    "# Import the data using pandas \n",
    "crime_df = pd.read_excel(file_path, encoding=\"utf_8\")\n",
    "\n",
    "# print the head (first six rows) of the data frame\n",
    "crime_df.head()\n",
    "```\n",
    "Note: the file_path is starting at the current working directory of the notebook file.\n",
    "\n",
    "Resource: https://pandas.pydata.org/"
   ]
  },
  {
   "cell_type": "code",
   "execution_count": null,
   "id": "acceptable-bracket",
   "metadata": {},
   "outputs": [],
   "source": [
    "# Let's try to import the crime data set into Python\n",
    "# Create a path to the excel file\n",
    "file_path = \"./data/crime_data.xlsx\"\n",
    "\n",
    "# Import the data using pandas \n",
    "crime_df = pd.read_excel(file_path)\n",
    "\n",
    "# print the head (first six rows) of the data frame\n",
    "crime_df.head()"
   ]
  },
  {
   "cell_type": "markdown",
   "id": "aquatic-parker",
   "metadata": {},
   "source": [
    "To import CSV file into Python using Pandas, we only need to change the function to \"pd.read_csv()\"."
   ]
  },
  {
   "cell_type": "code",
   "execution_count": null,
   "id": "hairy-bobby",
   "metadata": {},
   "outputs": [],
   "source": [
    "# let's try to import the Auto.csv data set\n"
   ]
  },
  {
   "cell_type": "markdown",
   "id": "ordered-miniature",
   "metadata": {},
   "source": [
    "## III. Clean and Manipulate Data in Pandas DataFrame\n",
    "\n",
    "80% of the time spent in a data project is usually related to data cleaning and manipulation. It's important to learn some basic tools to accomplish these everyday task as a data analyst or researcher.\n",
    "\n",
    "Here is a list of useful methods handling Pandas DataFrame\n",
    "\n",
    "- count()\n",
    "- dropna(how='any')\n",
    "- dtypes\n",
    "- to_numeric()\n",
    "- value_counts()\n",
    "- replace()\n",
    "- unique()\n",
    "- describe()\n",
    "- max()\n",
    "- min()\n",
    "- mean()\n",
    "- std()\n",
    "\n",
    "Pandas is a very powerful pacakge to handle most of the comment data cleaning and manipulation process. We are only covering the basic here in this workshop, so it is recommended to discover other useful functions and methods in Pandas package.\n",
    "\n",
    "let's use try some of these tools."
   ]
  },
  {
   "cell_type": "code",
   "execution_count": null,
   "id": "silent-revolution",
   "metadata": {},
   "outputs": [],
   "source": [
    "# Importing the donors2008 dataset\n",
    "file = './data/donors2008.csv'\n",
    "donor_df = pd.read_csv(file, encoding = \"ISO-8859-1\")\n",
    "donor_df.head()"
   ]
  },
  {
   "cell_type": "code",
   "execution_count": null,
   "id": "afraid-lawsuit",
   "metadata": {},
   "outputs": [],
   "source": [
    "# Delete extraneous column\n",
    "del donor_df['FIELD8']\n",
    "donor_df.head()"
   ]
  },
  {
   "cell_type": "code",
   "execution_count": null,
   "id": "exciting-gossip",
   "metadata": {},
   "outputs": [],
   "source": [
    "# Identify incomplete rows\n",
    "donor_df.count()"
   ]
  },
  {
   "cell_type": "code",
   "execution_count": null,
   "id": "applicable-flavor",
   "metadata": {},
   "outputs": [],
   "source": [
    "# Drop all rows with missing information\n",
    "donor_df = donor_df.dropna(how='any')"
   ]
  },
  {
   "cell_type": "code",
   "execution_count": null,
   "id": "reliable-jordan",
   "metadata": {},
   "outputs": [],
   "source": [
    "# Verify dropped rows\n",
    "donor_df.count()"
   ]
  },
  {
   "cell_type": "code",
   "execution_count": null,
   "id": "tested-simpson",
   "metadata": {},
   "outputs": [],
   "source": [
    "# The Amount column is the wrong data type. It should be numeric.\n",
    "donor_df.dtypes"
   ]
  },
  {
   "cell_type": "code",
   "execution_count": null,
   "id": "expanded-studio",
   "metadata": {},
   "outputs": [],
   "source": [
    "# Use pd.to_numeric() method to convert the datatype of the Amount column\n",
    "donor_df['Amount'] = pd.to_numeric(donor_df['Amount'])"
   ]
  },
  {
   "cell_type": "code",
   "execution_count": null,
   "id": "amended-safety",
   "metadata": {},
   "outputs": [],
   "source": [
    "# Verify that the Amount column datatype has been made numeric\n",
    "donor_df['Amount'].dtype"
   ]
  },
  {
   "cell_type": "code",
   "execution_count": null,
   "id": "behind-fountain",
   "metadata": {},
   "outputs": [],
   "source": [
    "# Display an overview of the Employers column\n",
    "donor_df['Employer'].value_counts()"
   ]
  },
  {
   "cell_type": "code",
   "execution_count": null,
   "id": "economic-stupid",
   "metadata": {},
   "outputs": [],
   "source": [
    "# Clean up Employer category. Replace 'Self Employed' and 'Self' with 'Self-Employed'\n",
    "donor_df['Employer'] = donor_df['Employer'].replace(\n",
    "    {'Self Employed': 'Self-Employed', 'Self': 'Self-Employed'})"
   ]
  },
  {
   "cell_type": "code",
   "execution_count": null,
   "id": "extra-logistics",
   "metadata": {},
   "outputs": [],
   "source": [
    "# Verify clean-up\n",
    "donor_df['Employer'].value_counts()"
   ]
  },
  {
   "cell_type": "code",
   "execution_count": null,
   "id": "appropriate-canvas",
   "metadata": {},
   "outputs": [],
   "source": [
    "# Try to replace \"Not Employed\" with \"Unemployed\"\n"
   ]
  },
  {
   "cell_type": "code",
   "execution_count": null,
   "id": "eight-speed",
   "metadata": {},
   "outputs": [],
   "source": [
    "# Display a statistical overview\n",
    "donor_df.describe()"
   ]
  },
  {
   "cell_type": "markdown",
   "id": "velvet-extreme",
   "metadata": {},
   "source": [
    "You can explore more of the Pandas package [here](https://pandas.pydata.org/docs/index.html)."
   ]
  },
  {
   "cell_type": "markdown",
   "id": "comfortable-mission",
   "metadata": {},
   "source": [
    "## IV. Create Data Visualization with Matplotlib\n",
    "\n",
    "One of the most important task in data analytic is story telling. We often need to demonstrate the result to non-technical peronnal (colleagues from differet department or clients). Data Visualization is one of the most powerful and effective tools describing the data and break down the story to the audiences in a non-technical way. \n",
    "\n",
    "Today, we are going to demonstrate the use of **Matplotlib** package for data visualization task in Python. There are many powerful data visualization packages in Python, which I strongly recommend you to explore more if you are interested in it. \n",
    "\n",
    "Here is the code to install and import the package.\n",
    "\n",
    "``` Python\n",
    "# Install the package\n",
    "!pip install matplotlib\n",
    "\n",
    "# Import the package\n",
    "from matplotlib import pyplot as plt\n",
    "```\n",
    "\n",
    "Resource: https://matplotlib.org/\n",
    "\n",
    "Let's try to plot some graphs in Python!"
   ]
  },
  {
   "cell_type": "code",
   "execution_count": null,
   "id": "operating-hazard",
   "metadata": {},
   "outputs": [],
   "source": [
    "# Import the package\n"
   ]
  },
  {
   "cell_type": "code",
   "execution_count": null,
   "id": "color-viking",
   "metadata": {},
   "outputs": [],
   "source": [
    "# Plot a histogram for the donor dataset \n",
    "plt.hist(donor_df['Amount'])\n",
    "plt.title(\"Histogram for Donor Amount\")\n",
    "plt.xlabel(\"Donor Amount ($)\")\n",
    "plt.ylabel(\"Frequency\")\n",
    "plt.show()"
   ]
  },
  {
   "cell_type": "code",
   "execution_count": null,
   "id": "future-services",
   "metadata": {},
   "outputs": [],
   "source": [
    "# Plot a scatterplot for the crime dataset\n",
    "plt.scatter(crime_df['rape'], crime_df['robbery'])\n",
    "plt.title(\"Scatter Plot: Rape vs. Robbery (Annual Data)\")\n",
    "plt.xlabel(\"Reported Rape Cases\")\n",
    "plt.ylabel(\"Reported Robbery Cases\")\n",
    "plt.show()"
   ]
  },
  {
   "cell_type": "markdown",
   "id": "broad-orange",
   "metadata": {},
   "source": [
    "## V. Simple Linear Regression with StatsModels\n",
    "\n",
    "One of the most powerful tools that often applies in Econometric study is **Regression Model**. Building a regression model in Python is relatively easy and fast. There are a few major data science and statistical packages can be used to in Python for Regression Analysis. Today, we are using the StatsModels package to demonstrate the use of the regression analysis in Python.\n",
    "\n",
    "Here is the code to install and load the package.\n",
    "\n",
    "``` Python\n",
    "# Install the package\n",
    "!pip install statmodels\n",
    "!pip install numpy\n",
    "\n",
    "# Import the package\n",
    "import numpy as np\n",
    "import statsmodels.api as sm\n",
    "```\n",
    "\n",
    "In this demo, we are using the **advertising** data set to demonstrate the use of regresssion modeling for a simple analysis of the advertising effect on sales.\n",
    "\n",
    "Resource: https://www.statsmodels.org/stable/index.html\n"
   ]
  },
  {
   "cell_type": "code",
   "execution_count": null,
   "id": "photographic-vatican",
   "metadata": {},
   "outputs": [],
   "source": [
    "# Import the package\n",
    "\n"
   ]
  },
  {
   "cell_type": "code",
   "execution_count": null,
   "id": "protective-faith",
   "metadata": {},
   "outputs": [],
   "source": [
    "# Import the advertisng dataset\n",
    "file_path = './data/advertising.csv'\n",
    "adv_df = pd.read_csv(file_path, sep=',')\n",
    "# adv_df = adv_df.drop(adv_df.columns[0], axis=1)\n",
    "adv_df.head()"
   ]
  },
  {
   "cell_type": "code",
   "execution_count": null,
   "id": "threaded-signal",
   "metadata": {},
   "outputs": [],
   "source": [
    "# Check the corelations between each variables\n",
    "adv_df.corr()"
   ]
  },
  {
   "cell_type": "code",
   "execution_count": null,
   "id": "concrete-survivor",
   "metadata": {},
   "outputs": [],
   "source": [
    "# Build the regression model / OLS model based on TV advertising budget\n",
    "\n",
    "# Step 1: Create the dependent and independent variables\n",
    "X = adv_df['TV']\n",
    "X = sm.add_constant(X)\n",
    "y = adv_df[\"sales\"]\n",
    "\n",
    "# Step 2: Fitting the data to the regression model\n",
    "fit = sm.OLS(y, X).fit()\n",
    "\n",
    "# Step 3: Print the OLS regresion report\n",
    "print(fit.summary())"
   ]
  },
  {
   "cell_type": "code",
   "execution_count": null,
   "id": "opponent-antigua",
   "metadata": {},
   "outputs": [],
   "source": [
    "# Extracting the parameters and statistics from the report\n",
    "print('Parameters: ', fit.params)\n",
    "print('Standard Errors: ', fit.bse)\n",
    "print('R^2: ', fit.rsquared)"
   ]
  },
  {
   "cell_type": "code",
   "execution_count": null,
   "id": "unauthorized-climb",
   "metadata": {},
   "outputs": [],
   "source": [
    "# Making in-sample prediction based on the model fit\n",
    "print('Predicted Values: ', fit.predict())"
   ]
  },
  {
   "cell_type": "code",
   "execution_count": null,
   "id": "fatal-classroom",
   "metadata": {},
   "outputs": [],
   "source": [
    "# Plot the regression model with data\n",
    "from statsmodels.sandbox.regression.predstd import wls_prediction_std\n",
    "\n",
    "pred, iv_l, iv_u = wls_prediction_std(fit)\n",
    "fig, ax = plt.subplots(figsize=(8,6))\n",
    "\n",
    "ax.plot(adv_df[\"TV\"], y, 'o', label = \"data\")\n",
    "ax.plot(adv_df[\"TV\"], fit.fittedvalues, 'r--', label = \"OLS\")\n",
    "ax.plot(adv_df[\"TV\"], iv_u, 'r--')\n",
    "ax.plot(adv_df[\"TV\"], iv_l, 'r--')\n",
    "ax.legend(loc = 'best');"
   ]
  }
 ],
 "metadata": {
  "kernelspec": {
   "display_name": "Python 3",
   "language": "python",
   "name": "python3"
  },
  "language_info": {
   "codemirror_mode": {
    "name": "ipython",
    "version": 3
   },
   "file_extension": ".py",
   "mimetype": "text/x-python",
   "name": "python",
   "nbconvert_exporter": "python",
   "pygments_lexer": "ipython3",
   "version": "3.7.1"
  }
 },
 "nbformat": 4,
 "nbformat_minor": 5
}
